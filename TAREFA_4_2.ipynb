{
  "nbformat": 4,
  "nbformat_minor": 0,
  "metadata": {
    "colab": {
      "name": "TAREFA 4.2.ipynb",
      "provenance": [],
      "collapsed_sections": []
    },
    "kernelspec": {
      "name": "python3",
      "display_name": "Python 3"
    },
    "language_info": {
      "name": "python"
    }
  },
  "cells": [
    {
      "cell_type": "markdown",
      "source": [
        "# **TAREFA 4.2**\n",
        "# De uma amostra aleatória de 50 dias deste ano, os preços dos combustíveis nos EUA tiveram uma média de US$ 4,28. Suponha que o desvio padrão  populacional é de US 0,21. Determine o intervalo de confiança (estimativa intervalar) para a média populacional do preço dos combustíveis:\n",
        "#Com 95% de confiança;\n",
        "#Com 99% de confiança;"
      ],
      "metadata": {
        "id": "I3vGS6v7XgYQ"
      }
    },
    {
      "cell_type": "code",
      "execution_count": 3,
      "metadata": {
        "colab": {
          "base_uri": "https://localhost:8080/"
        },
        "id": "mn6reontXfzn",
        "outputId": "cf8b2038-61e1-44f7-94ed-2e292f2417bd"
      },
      "outputs": [
        {
          "output_type": "execute_result",
          "data": {
            "text/plain": [
              "(4.221792039377314, 4.338207960622687)"
            ]
          },
          "metadata": {},
          "execution_count": 3
        }
      ],
      "source": [
        "import math\n",
        "from scipy import stats\n",
        "from scipy.stats import norm, zscore\n",
        "\n",
        "n = 50\n",
        "media = 4.28\n",
        "nc = 0.95\n",
        "desvio_padrao = 0.21\n",
        "intervalo = norm.interval(nc, media, desvio_padrao/math.sqrt(n))\n",
        "intervalo"
      ]
    },
    {
      "cell_type": "code",
      "source": [
        "n = 50\n",
        "media = 4.28\n",
        "nc = 0.99\n",
        "desvio_padrao = 0.21\n",
        "intervalo = norm.interval(nc, media, desvio_padrao/math.sqrt(n))\n",
        "intervalo"
      ],
      "metadata": {
        "colab": {
          "base_uri": "https://localhost:8080/"
        },
        "id": "tX3nLRJjZTbu",
        "outputId": "b10b7a37-b7f7-470c-a0fd-8534b806f674"
      },
      "execution_count": 4,
      "outputs": [
        {
          "output_type": "execute_result",
          "data": {
            "text/plain": [
              "(4.203501772555826, 4.356498227444175)"
            ]
          },
          "metadata": {},
          "execution_count": 4
        }
      ]
    }
  ]
}
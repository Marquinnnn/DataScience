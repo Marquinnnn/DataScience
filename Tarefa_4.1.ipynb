{
  "nbformat": 4,
  "nbformat_minor": 0,
  "metadata": {
    "colab": {
      "name": "Untitled0.ipynb",
      "provenance": []
    },
    "kernelspec": {
      "name": "python3",
      "display_name": "Python 3"
    },
    "language_info": {
      "name": "python"
    }
  },
  "cells": [
    {
      "cell_type": "markdown",
      "source": [
        "# **QUESTÃO 2**"
      ],
      "metadata": {
        "id": "CbtqzaqFp8to"
      }
    },
    {
      "cell_type": "code",
      "execution_count": 10,
      "metadata": {
        "colab": {
          "base_uri": "https://localhost:8080/"
        },
        "id": "9Fie3-6tp8K9",
        "outputId": "2a31fe6b-5f62-4f28-ff89-319d253d585f"
      },
      "outputs": [
        {
          "output_type": "stream",
          "name": "stdout",
          "text": [
            "16.80 %\n"
          ]
        }
      ],
      "source": [
        "from scipy import stats\n",
        "\n",
        "lamb = 3\n",
        "x = 4\n",
        "r = stats.poisson.pmf(x, lamb)\n",
        "r = r*100\n",
        "\n",
        "print(\"%.2f\"%r,\"%\")"
      ]
    },
    {
      "cell_type": "markdown",
      "source": [
        "# **QUESTÃO 3**"
      ],
      "metadata": {
        "id": "7-fxVVnGsili"
      }
    },
    {
      "cell_type": "code",
      "source": [
        "#P(X=3)\n",
        "x = 3\n",
        "n = 4\n",
        "p = 0.3\n",
        "\n",
        "r1 = stats.binom.pmf(x, n, p)\n",
        "\n",
        "#P(X=4)\n",
        "x2 = 4\n",
        "n2 = 4\n",
        "p2 = 0.3\n",
        "\n",
        "r2 = stats.binom.pmf(x2, n2, p2)\n",
        "\n",
        "#P(X>=3) com 4 lançamentos\n",
        "print(\"%.2f\" %((r1+r2)*100),\"%\")"
      ],
      "metadata": {
        "colab": {
          "base_uri": "https://localhost:8080/"
        },
        "id": "u9mTucyitUpw",
        "outputId": "82d4b50c-d46d-4e9a-8f01-7e820a9a7203"
      },
      "execution_count": 20,
      "outputs": [
        {
          "output_type": "stream",
          "name": "stdout",
          "text": [
            "8.37 %\n"
          ]
        }
      ]
    },
    {
      "cell_type": "markdown",
      "source": [
        "# **QUESTÃO 4**"
      ],
      "metadata": {
        "id": "X1N963aqyXBw"
      }
    },
    {
      "cell_type": "code",
      "source": [
        "mu = 5 #media\n",
        "sigma = 1 #desvio padrão\n",
        "\n",
        "# a) Menos que 2,5 horas semanais\n",
        "x1 = 2.5\n",
        "a = stats.norm.cdf(x1, mu, sigma) \n",
        "\n",
        "# b) Menos que 7,5 e mais que 2,5 horas semanais\n",
        "x2 = 7.5\n",
        "b = stats.norm.cdf(x2, mu, sigma) - stats.norm.cdf(x1, mu, sigma) \n",
        "\n",
        "# c) Mais que 7,5 horas semanais\n",
        "c = 1 - stats.norm.cdf(x2, mu, sigma)  \n",
        "\n",
        "print(\"a)\",\"%.4f\"%a,\"\\nb)\",\"%.4f\"%b, \"\\nc)\",\"%.4f\"%c)"
      ],
      "metadata": {
        "colab": {
          "base_uri": "https://localhost:8080/"
        },
        "id": "nE-BBePhyYF6",
        "outputId": "e6b1b880-ee13-4c92-81da-b0acebabf158"
      },
      "execution_count": 31,
      "outputs": [
        {
          "output_type": "stream",
          "name": "stdout",
          "text": [
            "a) 0.0062 \n",
            "b) 0.9876 \n",
            "c) 0.0062\n"
          ]
        }
      ]
    }
  ]
}